{
  "nbformat": 4,
  "nbformat_minor": 0,
  "metadata": {
    "colab": {
      "provenance": [],
      "authorship_tag": "ABX9TyN9qVr12nxXIPTy9gD7sYE3",
      "include_colab_link": true
    },
    "kernelspec": {
      "name": "python3",
      "display_name": "Python 3"
    },
    "language_info": {
      "name": "python"
    }
  },
  "cells": [
    {
      "cell_type": "markdown",
      "metadata": {
        "id": "view-in-github",
        "colab_type": "text"
      },
      "source": [
        "<a href=\"https://colab.research.google.com/github/Jonata-Garcia/Vetores_usando_NumPy/blob/main/Vetores_usando_NumPy.ipynb\" target=\"_parent\"><img src=\"https://colab.research.google.com/assets/colab-badge.svg\" alt=\"Open In Colab\"/></a>"
      ]
    },
    {
      "cell_type": "markdown",
      "source": [
        "1 - **SOMA DE VETORES** Crie dois vetores com números inteiros e encontre a soma deles"
      ],
      "metadata": {
        "id": "HlobZD7SJGo5"
      }
    },
    {
      "cell_type": "code",
      "execution_count": 1,
      "metadata": {
        "colab": {
          "base_uri": "https://localhost:8080/"
        },
        "id": "u6uwM-YwJAth",
        "outputId": "97f76d66-2170-46f8-d6ba-7632099322c0"
      },
      "outputs": [
        {
          "output_type": "stream",
          "name": "stdout",
          "text": [
            "Soma dos vetores: [ 6  8 10 12]\n"
          ]
        }
      ],
      "source": [
        "import numpy as np\n",
        "\n",
        "# Criando dois vetores\n",
        "vetor1 = np.array([1, 2, 3, 4])\n",
        "vetor2 = np.array([5, 6, 7, 8])\n",
        "\n",
        "# Somando os vetores\n",
        "soma = vetor1 + vetor2\n",
        "\n",
        "print(\"Soma dos vetores:\", soma)\n"
      ]
    },
    {
      "cell_type": "markdown",
      "source": [
        "2 - **PRODUTO ESCALAR** Calcule o produto escalar entre dois vetores."
      ],
      "metadata": {
        "id": "xoxTd7V7JlDZ"
      }
    },
    {
      "cell_type": "code",
      "source": [
        "import numpy as np\n",
        "\n",
        "# Criando dois vetores\n",
        "vetor1 = np.array([1, 3, -5])\n",
        "vetor2 = np.array([4, -2, -1])\n",
        "\n",
        "# Calculando o produto escalar\n",
        "produto_escalar = np.dot(vetor1, vetor2)\n",
        "\n",
        "print(\"Produto escalar:\", produto_escalar)\n"
      ],
      "metadata": {
        "colab": {
          "base_uri": "https://localhost:8080/"
        },
        "id": "GzfhEJjkJzUZ",
        "outputId": "1b36d126-f14e-432f-eed9-bc3df3e3f70a"
      },
      "execution_count": 2,
      "outputs": [
        {
          "output_type": "stream",
          "name": "stdout",
          "text": [
            "Produto escalar: 3\n"
          ]
        }
      ]
    },
    {
      "cell_type": "markdown",
      "source": [
        "3 - **MAGNITUDE DE UM VETOR** Encontre a magnitude (ou ma norma) de um vetor."
      ],
      "metadata": {
        "id": "IgxlDp0jJ8Zp"
      }
    },
    {
      "cell_type": "code",
      "source": [
        "import numpy as np\n",
        "\n",
        "# Criando um vetor\n",
        "vetor = np.array([3, 4])\n",
        "\n",
        "# Calculando a magnitude\n",
        "magnitude = np.linalg.norm(vetor)\n",
        "\n",
        "print(\"Magnitude do vetor:\", magnitude)\n"
      ],
      "metadata": {
        "colab": {
          "base_uri": "https://localhost:8080/"
        },
        "id": "Uf3KXUIvKPcQ",
        "outputId": "c93a32bc-8bf9-4a48-f074-0b4805a71516"
      },
      "execution_count": 3,
      "outputs": [
        {
          "output_type": "stream",
          "name": "stdout",
          "text": [
            "Magnitude do vetor: 5.0\n"
          ]
        }
      ]
    },
    {
      "cell_type": "markdown",
      "source": [
        "4 - **NORMALIZAÇÃO DE UM VETOR** Normalize um vetor (ou seja faça com que ele tenha magnitude 1)"
      ],
      "metadata": {
        "id": "r88K4ZLBKbKc"
      }
    },
    {
      "cell_type": "code",
      "source": [
        "import numpy as np\n",
        "\n",
        "# Criando um vetor\n",
        "vetor = np.array([3, 4])\n",
        "\n",
        "# Normalizando o vetor\n",
        "magnitude = np.linalg.norm(vetor)\n",
        "vetor_normalizado = vetor / magnitude\n",
        "\n",
        "print(\"Vetor normalizado:\", vetor_normalizado)\n"
      ],
      "metadata": {
        "colab": {
          "base_uri": "https://localhost:8080/"
        },
        "id": "d-p1bjX-KslC",
        "outputId": "dab8e574-a13d-4989-8c6d-1a21f01aa052"
      },
      "execution_count": 4,
      "outputs": [
        {
          "output_type": "stream",
          "name": "stdout",
          "text": [
            "Vetor normalizado: [0.6 0.8]\n"
          ]
        }
      ]
    },
    {
      "cell_type": "markdown",
      "source": [
        "5 - **SOMA DOS ELEMENTOS DE UM VETOR** Calcule a soma de todos os elementos de um vetor"
      ],
      "metadata": {
        "id": "HQr0OHbtK-nL"
      }
    },
    {
      "cell_type": "code",
      "source": [
        "import numpy as np\n",
        "\n",
        "# Criando um vetor\n",
        "vetor = np.array([10, 20, 30, 40, 50])\n",
        "\n",
        "# Calculando a soma dos elementos\n",
        "soma_elementos = np.sum(vetor)\n",
        "\n",
        "print(\"Soma dos elementos do vetor:\", soma_elementos)\n"
      ],
      "metadata": {
        "colab": {
          "base_uri": "https://localhost:8080/"
        },
        "id": "mivzOK84LXKS",
        "outputId": "5fd59aa4-e7e6-497d-bb66-9937ba4bfcf4"
      },
      "execution_count": 5,
      "outputs": [
        {
          "output_type": "stream",
          "name": "stdout",
          "text": [
            "Soma dos elementos do vetor: 150\n"
          ]
        }
      ]
    }
  ]
}